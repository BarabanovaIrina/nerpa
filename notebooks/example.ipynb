{
 "cells": [
  {
   "cell_type": "code",
   "metadata": {
    "collapsed": true,
    "pycharm": {
     "name": "#%%\n"
    }
   },
   "source": [
    "from utils import default_result_path\n",
    "from core.preprocess import OHLCPreprocess\n",
    "from os.path import join\n",
    "from core.data.data import Data"
   ],
   "execution_count": 2,
   "outputs": []
  },
  {
   "cell_type": "code",
   "source": [
    "# fill in the path to the file\n",
    "# raw Data is an object which has indices, features and target\n",
    "raw_data = Data.from_csv('data/raw.csv')"
   ],
   "metadata": {
    "collapsed": false,
    "pycharm": {
     "name": "#%%\n"
    }
   },
   "execution_count": 7,
   "outputs": []
  },
  {
   "cell_type": "code",
   "execution_count": 8,
   "outputs": [],
   "source": [
    "# This preprocessing strategy remove unnecessary columns and restore date\n",
    "cleaned_data = OHLCPreprocess(raw_data).process()\n",
    "headers = ['Open', 'High', 'Low', 'Close']\n",
    "frame = cleaned_data.as_pd_dataframe(headers=headers)\n",
    "\n",
    "# save the result to the ~home/NerpaResults\n",
    "frame.to_csv(join(default_result_path(), 'result.csv'))"
   ],
   "metadata": {
    "collapsed": false,
    "pycharm": {
     "name": "#%%\n"
    }
   }
  }
 ],
 "metadata": {
  "kernelspec": {
   "display_name": "Python 3",
   "language": "python",
   "name": "python3"
  },
  "language_info": {
   "codemirror_mode": {
    "name": "ipython",
    "version": 2
   },
   "file_extension": ".py",
   "mimetype": "text/x-python",
   "name": "python",
   "nbconvert_exporter": "python",
   "pygments_lexer": "ipython2",
   "version": "2.7.6"
  }
 },
 "nbformat": 4,
 "nbformat_minor": 0
}