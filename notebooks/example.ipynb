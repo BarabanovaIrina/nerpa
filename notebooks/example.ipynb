{
 "cells": [
  {
   "cell_type": "code",
   "metadata": {
    "collapsed": true,
    "pycharm": {
     "name": "#%%\n"
    }
   },
   "source": [
    "!pip install numpy\n",
    "!pip install pandas"
   ],
   "execution_count": 2,
   "outputs": []
  },
  {
   "cell_type": "code",
   "execution_count": 9,
   "outputs": [],
   "source": [
    "import os\n",
    "from pathlib import Path\n",
    "from os.path import join\n",
    "from os.path import abspath\n",
    "import numpy as np\n",
    "import pandas as pd\n",
    "from typing import List\n",
    "from datetime import datetime\n",
    "from abc import ABC, abstractmethod"
   ],
   "metadata": {
    "collapsed": false,
    "pycharm": {
     "name": "#%%\n"
    }
   }
  },
  {
   "cell_type": "code",
   "execution_count": 10,
   "outputs": [],
   "source": [
    "class Data:\n",
    "    def __init__(self, idx, features, target, headers=None):\n",
    "        self.headers = headers\n",
    "        self.idx = idx\n",
    "        self.features = features\n",
    "        self.target = target\n",
    "\n",
    "    @staticmethod\n",
    "    def from_csv(path):\n",
    "        abs_path = abspath(path)\n",
    "        dataframe = pd.read_csv(abs_path)\n",
    "\n",
    "        pure_data = np.array(dataframe).T\n",
    "        idx = pure_data[0]\n",
    "        features = pure_data[1:].T\n",
    "\n",
    "        return Data(idx=idx, features=features, target=None)\n",
    "\n",
    "    def as_pd_dataframe(self, headers: List[str] = None):\n",
    "        frame = pd.DataFrame(data=self.features, index=self.idx, columns=headers)\n",
    "\n",
    "        return frame\n",
    "\n",
    "    def __repr__(self):\n",
    "        return {\n",
    "            'idx': self.idx,\n",
    "            'features': self.features,\n",
    "            'target': self.target,\n",
    "        }\n",
    "\n",
    "    def __str__(self):\n",
    "        return str(self.__repr__())\n",
    "\n",
    "\n",
    "class PreprocessStrategy(ABC):\n",
    "    def __init__(self, data: Data):\n",
    "        self.data = data\n",
    "\n",
    "    @abstractmethod\n",
    "    def process(self) -> Data:\n",
    "        raise NotImplementedError\n",
    "\n",
    "    def _chek_and_clean_timestamps(self):\n",
    "        self.data.idx = [datetime.utcfromtimestamp(int(timestamp) / 1000).strftime('%Y-%m-%d %H:%M:%S')\n",
    "                         for timestamp in self.data.idx]\n",
    "\n",
    "\n",
    "class OHLCPreprocess(PreprocessStrategy):\n",
    "    def __init__(self, data: Data):\n",
    "        super().__init__(data)\n",
    "\n",
    "    def process(self) -> Data:\n",
    "        self._chek_and_clean_timestamps()\n",
    "\n",
    "        self.data.features = self.data.features.T[:4].T\n",
    "\n",
    "        return self.data\n"
   ],
   "metadata": {
    "collapsed": false,
    "pycharm": {
     "name": "#%%\n"
    }
   }
  },
  {
   "cell_type": "code",
   "execution_count": 12,
   "outputs": [],
   "source": [
    "def default_result_path():\n",
    "    name = 'NerpaResults'\n",
    "    default_data_path = os.path.join(str(Path.home()), name)\n",
    "    if name not in os.listdir(str(Path.home())):\n",
    "        os.mkdir(default_data_path)\n",
    "    return default_data_path"
   ],
   "metadata": {
    "collapsed": false,
    "pycharm": {
     "name": "#%%\n"
    }
   }
  },
  {
   "cell_type": "code",
   "source": [
    "# fill in the path to the file\n",
    "# raw Data is an object which has indices, features and target\n",
    "raw_data = Data.from_csv('data/raw.csv')"
   ],
   "metadata": {
    "collapsed": false,
    "pycharm": {
     "name": "#%%\n"
    }
   },
   "execution_count": 13,
   "outputs": []
  },
  {
   "cell_type": "code",
   "execution_count": 14,
   "outputs": [],
   "source": [
    "# This preprocessing strategy remove unnecessary columns and restore date\n",
    "cleaned_data = OHLCPreprocess(raw_data).process()\n",
    "headers = ['Open', 'High', 'Low', 'Close']\n",
    "frame = cleaned_data.as_pd_dataframe(headers=headers)\n",
    "\n",
    "# save the result to the ~home/NerpaResults\n",
    "frame.to_csv(join(default_result_path(), 'result.csv'))"
   ],
   "metadata": {
    "collapsed": false,
    "pycharm": {
     "name": "#%%\n"
    }
   }
  }
 ],
 "metadata": {
  "kernelspec": {
   "display_name": "Python 3",
   "language": "python",
   "name": "python3"
  },
  "language_info": {
   "codemirror_mode": {
    "name": "ipython",
    "version": 2
   },
   "file_extension": ".py",
   "mimetype": "text/x-python",
   "name": "python",
   "nbconvert_exporter": "python",
   "pygments_lexer": "ipython2",
   "version": "2.7.6"
  }
 },
 "nbformat": 4,
 "nbformat_minor": 0
}